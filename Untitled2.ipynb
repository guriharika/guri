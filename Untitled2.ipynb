{
  "nbformat": 4,
  "nbformat_minor": 0,
  "metadata": {
    "colab": {
      "provenance": []
    },
    "kernelspec": {
      "name": "python3",
      "display_name": "Python 3"
    },
    "language_info": {
      "name": "python"
    }
  },
  "cells": [
    {
      "cell_type": "markdown",
      "source": [
        "theory\n",
        "\n",
        "question 1."
      ],
      "metadata": {
        "id": "6IDA3sXHrpRx"
      }
    },
    {
      "cell_type": "markdown",
      "source": [
        "questions"
      ],
      "metadata": {
        "id": "JsFn07W0sIHj"
      }
    },
    {
      "cell_type": "markdown",
      "source": [],
      "metadata": {
        "id": "sw-2s789sP4p"
      }
    }
  ]
}