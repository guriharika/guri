{
  "nbformat": 4,
  "nbformat_minor": 0,
  "metadata": {
    "colab": {
      "provenance": []
    },
    "kernelspec": {
      "name": "python3",
      "display_name": "Python 3"
    },
    "language_info": {
      "name": "python"
    }
  },
  "cells": [
    {
      "cell_type": "markdown",
      "source": [
        "# theory"
      ],
      "metadata": {
        "id": "6_ZkZcN7QtYw"
      }
    },
    {
      "cell_type": "markdown",
      "source": [
        "## pyton"
      ],
      "metadata": {
        "id": "eDMtSlAeQ4UO"
      }
    },
    {
      "cell_type": "markdown",
      "source": [
        "Q1.ghtukjhioyjhpoytjlpoop\n",
        "\n"
      ],
      "metadata": {
        "id": "tjJZy6AlRCFG"
      }
    },
    {
      "cell_type": "markdown",
      "source": [
        "Ans.hngithioyjtpojkuk"
      ],
      "metadata": {
        "id": "TXqh3NqJRWTO"
      }
    },
    {
      "cell_type": "markdown",
      "source": [
        "Q2.higtjhiotykjpuokjpou"
      ],
      "metadata": {
        "id": "zVpJn5RORZsX"
      }
    },
    {
      "cell_type": "markdown",
      "source": [
        "Ans.huighioyjhoukyjoyk;"
      ],
      "metadata": {
        "id": "pEPrf1Y7Rcn_"
      }
    },
    {
      "cell_type": "markdown",
      "source": [
        "# pratical"
      ],
      "metadata": {
        "id": "wA6BjrGERlKO"
      }
    },
    {
      "cell_type": "markdown",
      "source": [
        "## questions"
      ],
      "metadata": {
        "id": "flJMmjF4RsB2"
      }
    },
    {
      "cell_type": "markdown",
      "source": [
        "Q1.what is the assosdojm"
      ],
      "metadata": {
        "id": "yUwVBGOJRyA-"
      }
    },
    {
      "cell_type": "markdown",
      "source": [
        "Ans."
      ],
      "metadata": {
        "id": "2-GUWnVjR3pm"
      }
    },
    {
      "cell_type": "code",
      "source": [
        "a=1,2,35\n",
        "a"
      ],
      "metadata": {
        "colab": {
          "base_uri": "https://localhost:8080/"
        },
        "id": "mS4NGqMURuC5",
        "outputId": "fea5fc99-54be-462d-f229-151806a81f75"
      },
      "execution_count": 2,
      "outputs": [
        {
          "output_type": "execute_result",
          "data": {
            "text/plain": [
              "(1, 2, 35)"
            ]
          },
          "metadata": {},
          "execution_count": 2
        }
      ]
    },
    {
      "cell_type": "code",
      "source": [],
      "metadata": {
        "id": "GeeLA_ncR6tC"
      },
      "execution_count": null,
      "outputs": []
    }
  ]
}