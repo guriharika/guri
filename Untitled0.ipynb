{
  "nbformat": 4,
  "nbformat_minor": 0,
  "metadata": {
    "colab": {
      "provenance": []
    },
    "kernelspec": {
      "name": "python3",
      "display_name": "Python 3"
    },
    "language_info": {
      "name": "python"
    }
  },
  "cells": [
    {
      "cell_type": "markdown",
      "source": [
        "# **Theoretical questions**"
      ],
      "metadata": {
        "id": "itpZ17FHvFPR"
      }
    },
    {
      "cell_type": "markdown",
      "source": [
        "## Data types and structures Questions\n",
        "\n",
        "---\n",
        "\n"
      ],
      "metadata": {
        "id": "we2spvW3vRTg"
      }
    },
    {
      "cell_type": "markdown",
      "source": [
        "**Q1.What are data structures, and why are they important?**"
      ],
      "metadata": {
        "id": "Ud0310yzvnWx"
      }
    },
    {
      "cell_type": "markdown",
      "source": [
        "Ans:Data structures are ways of organizing and storing data for efficient access and modification. They are important because they optimize performance, help implement algorithms effectively, manage resources, and enable better problem-solving. Examples include arrays, linked lists, and trees.\n",
        "\n",
        "---\n",
        "\n"
      ],
      "metadata": {
        "id": "_PyzX_QEwHnh"
      }
    },
    {
      "cell_type": "markdown",
      "source": [
        "**Q2.Explain the difference between mutable and immutable data types with examples.**"
      ],
      "metadata": {
        "id": "dXSnNtDgwcBQ"
      }
    },
    {
      "cell_type": "markdown",
      "source": [
        "Ans:Mutable data types can be changed or modified after they are created, while immutable data types cannot be changed once they are created.\n",
        "\n",
        "Mutable:\n",
        "\n",
        "Can be modified.\n",
        "\n",
        "Example: List in Python ([1, 2, 3] can be changed to [4, 5, 6]).\n",
        "\n",
        "Immutable:\n",
        "\n",
        "Cannot be modified.\n",
        "\n",
        "Example: Tuple in Python ((1, 2, 3) cannot be changed to (4, 5, 6)).\n",
        "In short, mutable types allow changes, while immutable types do not.\n",
        "\n",
        "---\n",
        "\n"
      ],
      "metadata": {
        "id": "erebcNJcwrCA"
      }
    },
    {
      "cell_type": "markdown",
      "source": [
        "**Q3.What are the main differences between lists and tuples in Python?**"
      ],
      "metadata": {
        "id": "5gU-XGIIxak4"
      }
    },
    {
      "cell_type": "markdown",
      "source": [
        "Ans:Lists in Python are mutable, meaning you can modify, add, or remove elements after creation. They are defined with square brackets, e.g., [1, 2, 3], and support methods like append(), remove(), and extend() for modification. Lists are ideal when you need a collection that can change over time.\n",
        "\n",
        "Tuples, on the other hand, are immutable, meaning once created, their elements cannot be changed. They are defined with parentheses, e.g., (1, 2, 3), and have fewer methods, such as count() and index(). Tuples are faster and are typically used for fixed collections of data where you don't need to modify the contents.\n",
        "\n",
        "---\n",
        "\n"
      ],
      "metadata": {
        "id": "acXbin4Qxrfw"
      }
    },
    {
      "cell_type": "markdown",
      "source": [
        "**Q4.Describe how dictionaries store data?**"
      ],
      "metadata": {
        "id": "BCf5KWvOxrUY"
      }
    },
    {
      "cell_type": "markdown",
      "source": [
        "Ans:Dictionaries in Python store data as key-value pairs. Each item in a dictionary consists of a unique key and an associated value. The key is used to access the corresponding value.\n",
        "\n",
        "Keys must be unique, immutable (e.g., strings, numbers, or tuples), and are used to look up the associated values, which can be any data type (mutable or immutable).\n",
        "\n",
        "In this example:\n",
        "\n",
        "1.\"name\" and \"age\" are the keys.\n",
        "\n",
        "2.\"Alice\" and 25 are the corresponding values.\n",
        "\n",
        "---\n",
        "\n"
      ],
      "metadata": {
        "id": "BxoxWhicxrCx"
      }
    },
    {
      "cell_type": "markdown",
      "source": [
        "**Q5.Why might you use a set instead of a list in Python?**"
      ],
      "metadata": {
        "id": "8EN5vNX4xqzw"
      }
    },
    {
      "cell_type": "markdown",
      "source": [
        "Ans:You might use a set instead of a list in Python for the following reasons:\n",
        "\n",
        "1.Uniqueness: Sets automatically eliminate duplicate values, whereas lists can contain duplicate elements.\n",
        "\n",
        "2.Faster lookups: Sets provide faster membership testing (checking if an item exists) because they are implemented using hash tables, whereas lists require scanning through all elements.\n",
        "\n",
        "3.Mathematical operations: Sets support operations like union, intersection, and difference, which are not directly available with lists.\n",
        "\n",
        "4.Order is not important: Sets are unordered collections, so if you don’t need to preserve the order of elements, a set is more efficient.\n",
        "\n",
        "---\n",
        "\n"
      ],
      "metadata": {
        "id": "0eyhyd_LxqFH"
      }
    },
    {
      "cell_type": "markdown",
      "source": [
        "**Q6.What is a string in Python, and how is it different from a list?**"
      ],
      "metadata": {
        "id": "HxTX27fDxpg4"
      }
    },
    {
      "cell_type": "markdown",
      "source": [
        "Ans:A string in Python is a sequence of characters enclosed in quotes (single, double, or triple). Strings are used to represent textual data.\n",
        "\n",
        "Key differences between strings and lists:\n",
        "\n",
        "Mutability:\n",
        "\n",
        "String: Immutable, meaning once created, you cannot modify the characters within a string.\n",
        "\n",
        "List: Mutable, meaning you can change, add, or remove elements in a list.\n",
        "\n",
        "Data type:\n",
        "\n",
        "String: Contains only characters (text).\n",
        "\n",
        "List: Can contain any type of data (e.g., numbers, strings, objects).\n",
        "\n",
        "Methods:\n",
        "\n",
        "String: Has methods like .lower(), .upper(), .split(), but you can't modify the string directly.\n",
        "\n",
        "List: Has methods like .append(), .remove(), .extend(), which modify the list.\n",
        "\n",
        "Use cases:\n",
        "\n",
        "String: Used for text manipulation and representation.\n",
        "\n",
        "List: Used for storing collections of items, potentially of different types.\n",
        "\n",
        "---\n",
        "\n"
      ],
      "metadata": {
        "id": "mI5qqf1yz4ZQ"
      }
    },
    {
      "cell_type": "markdown",
      "source": [
        "**Q7.How do tuples ensure data integrity in Python?**"
      ],
      "metadata": {
        "id": "3IsXgthBz4KY"
      }
    },
    {
      "cell_type": "markdown",
      "source": [],
      "metadata": {
        "id": "2raeJ5hiz3nZ"
      }
    },
    {
      "cell_type": "markdown",
      "source": [],
      "metadata": {
        "id": "xZ3JUhoEz3TY"
      }
    },
    {
      "cell_type": "code",
      "execution_count": null,
      "metadata": {
        "id": "LrCrcH43u1Xz"
      },
      "outputs": [],
      "source": []
    }
  ]
}