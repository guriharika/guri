{
 "cells": [
  {
   "cell_type": "markdown",
   "id": "c2f90d15-8da3-4193-b1c8-3b554539fda6",
   "metadata": {},
   "source": [
    "# theory question"
   ]
  },
  {
   "cell_type": "markdown",
   "id": "c4f12d14-e8c0-4a14-91ed-563d2206c113",
   "metadata": {},
   "source": [
    "## basic pyton"
   ]
  },
  {
   "cell_type": "markdown",
   "id": "a433466a-e1d0-413f-9fbb-5f03f7202dac",
   "metadata": {},
   "source": [
    "Q1.vbrhgngioyjhoyjimio\n",
    "Ans.bcurgitrnhgitjnyhjyt\n",
    "\n",
    "Q2.furgijtnhgkjntyik\n",
    "Ans.fiurgtnhikynyi hkyn\n",
    "\n",
    "Q3.bufrnhtgtjhnkhkljtnyk\n",
    "Ans.bgtnkhjmytlkkkjmykumj"
   ]
  },
  {
   "cell_type": "markdown",
   "id": "3ded6a62-dcc8-470b-8445-77f7fc19bab7",
   "metadata": {},
   "source": []
  }
 ],
 "metadata": {
  "kernelspec": {
   "display_name": "Python 3 (ipykernel)",
   "language": "python",
   "name": "python3"
  },
  "language_info": {
   "codemirror_mode": {
    "name": "ipython",
    "version": 3
   },
   "file_extension": ".py",
   "mimetype": "text/x-python",
   "name": "python",
   "nbconvert_exporter": "python",
   "pygments_lexer": "ipython3",
   "version": "3.12.7"
  }
 },
 "nbformat": 4,
 "nbformat_minor": 5
}
