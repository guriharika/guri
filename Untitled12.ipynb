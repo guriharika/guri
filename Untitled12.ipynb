{
 "cells": [
  {
   "cell_type": "markdown",
   "id": "567580e0-3dc2-420d-a509-7f8b90f252fe",
   "metadata": {},
   "source": [
    "1.write a pyton program to print \"hello world\"\n"
   ]
  },
  {
   "cell_type": "code",
   "execution_count": 5,
   "id": "94df646f-1512-461b-ac77-e5e2054f092c",
   "metadata": {},
   "outputs": [
    {
     "name": "stdout",
     "output_type": "stream",
     "text": [
      "hello_world\n"
     ]
    }
   ],
   "source": [
    "print(\"hello_world\")"
   ]
  },
  {
   "cell_type": "code",
   "execution_count": null,
   "id": "d862be8a-81c1-48c7-a284-c169dc3003fd",
   "metadata": {},
   "outputs": [],
   "source": []
  }
 ],
 "metadata": {
  "kernelspec": {
   "display_name": "Python 3 (ipykernel)",
   "language": "python",
   "name": "python3"
  },
  "language_info": {
   "codemirror_mode": {
    "name": "ipython",
    "version": 3
   },
   "file_extension": ".py",
   "mimetype": "text/x-python",
   "name": "python",
   "nbconvert_exporter": "python",
   "pygments_lexer": "ipython3",
   "version": "3.12.7"
  }
 },
 "nbformat": 4,
 "nbformat_minor": 5
}
