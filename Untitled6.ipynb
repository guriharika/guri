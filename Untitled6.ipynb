{
  "nbformat": 4,
  "nbformat_minor": 0,
  "metadata": {
    "colab": {
      "provenance": []
    },
    "kernelspec": {
      "name": "python3",
      "display_name": "Python 3"
    },
    "language_info": {
      "name": "python"
    }
  },
  "cells": [
    {
      "cell_type": "markdown",
      "source": [
        "# **Basics of Statistics**"
      ],
      "metadata": {
        "id": "ZMgGXqMclGnu"
      }
    },
    {
      "cell_type": "markdown",
      "source": [
        "## **Assignment Questions:**"
      ],
      "metadata": {
        "id": "lk8TUpBRlOl7"
      }
    },
    {
      "cell_type": "markdown",
      "source": [
        "**Q1.Explain the different types of data (qualitative and quantitative) and provide examples of each. Discuss\n",
        "nominal, ordinal, interval, and ratio scales.**"
      ],
      "metadata": {
        "id": "3GpwO14BlOfE"
      }
    },
    {
      "cell_type": "markdown",
      "source": [
        "Ans:In research and data analysis, data can be broadly classified into two main types: qualitative data and quantitative data. Each type has its own characteristics and uses in research. Additionally, data can be measured using different types of scales that further define how the data can be interpreted and analyzed.\n",
        "\n",
        "\n",
        "**1. Qualitative Data**\n",
        "\n",
        "Qualitative data, also known as categorical data, refers to data that describes qualities or characteristics. It is non-numeric in nature and is used to categorize or describe items, groups, or attributes. Qualitative data typically answers the \"what\" question rather than the \"how much\" question.\n",
        "\n",
        "**Examples of qualitative data include:**\n",
        "\n",
        "* Colors of cars (e.g., red, blue, green, black)\n",
        "\n",
        "* Types of fruits (e.g., apple, banana, cherry)\n",
        "\n",
        "* Gender (e.g., male, female, other)\n",
        "\n",
        "* Marital status (e.g., single, married, divorced)\n",
        "\n",
        "**Qualitative data can be further divided into two subtypes:**\n",
        "\n",
        "* Nominal data: This is data that represents categories with no specific order or ranking. The categories are just labels.\n",
        "\n",
        "* Example: Eye color (e.g., blue, brown, green) or types of pets (e.g., dog, cat, hamster).\n",
        "\n",
        "* Ordinal data: This type of data also represents categories, but the categories have a meaningful order or ranking, though the intervals between them are not consistent.\n",
        "\n",
        "* Example: Education level (e.g., high school, undergraduate, graduate) or customer satisfaction (e.g., very dissatisfied, dissatisfied, neutral, satisfied, very satisfied).\n",
        "\n",
        "\n",
        "**2. Quantitative Data**\n",
        "\n",
        "Quantitative data refers to data that can be measured and expressed numerically. It answers questions related to \"how much\" or \"how many.\" Quantitative data can be further divided into two subtypes: discrete and continuous data.\n",
        "\n",
        "**Examples of quantitative data include:**\n",
        "\n",
        "* Age (e.g., 25 years old)\n",
        "\n",
        "* Height (e.g., 5 feet 9 inches)\n",
        "\n",
        "* Temperature (e.g., 22°C)\n",
        "\n",
        "* Number of children (e.g., 3 children)\n",
        "\n",
        "**Quantitative data is often measured using interval or ratio scales, which are more precise and have more mathematical properties.**\n",
        "\n",
        "* Interval scale: This scale represents data with meaningful intervals between values, but it lacks a true zero point (i.e., zero does not indicate the absence of the attribute being measured). The difference between values is consistent, but ratios are not meaningful.\n",
        "\n",
        "* Example: Temperature in Celsius or Fahrenheit (0°C or 0°F does not mean \"no temperature\").\n",
        "\n",
        "* Ratio scale: This scale has all the properties of an interval scale, but it also has an absolute zero point, meaning zero represents the complete absence of the attribute being measured. It allows for meaningful ratios between values.\n",
        "\n",
        "* Example: Weight (e.g., 0 kg means no weight) or height (e.g., 0 cm means no height).\n",
        "\n",
        "\n",
        "\n",
        "\n",
        "---\n",
        "\n"
      ],
      "metadata": {
        "id": "ZL9dzb0IlObL"
      }
    },
    {
      "cell_type": "markdown",
      "source": [
        "**Q2.What are the measures of central tendency, and when should you use each? Discuss the mean, median,\n",
        "and mode with examples and situations where each is appropriate.**"
      ],
      "metadata": {
        "id": "thdiJbdDlOY0"
      }
    },
    {
      "cell_type": "markdown",
      "source": [
        "Ans:Measures of central tendency are statistical tools used to summarize a set of data by identifying the central or typical value within that data set. The three most commonly used measures of central tendency are mean, median, and mode. Each measure provides a different way of representing the \"center\" of the data, and choosing which one to use depends on the type of data and the specific situation.\n",
        "\n",
        "**1. Mean (Arithmetic Average)**\n",
        "\n",
        "The mean is the most common measure of central tendency and is calculated by adding all the values in a data set and dividing by the number of values.\n",
        "\n",
        "**Formula for Mean:**\n",
        "\n",
        " ![Screenshot 2025-01-21 170031.png](data:image/png;base64,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)\n",
        "\n",
        " Example:\n",
        "\n",
        "Consider the following data set: 2, 4, 6, 8, 10.\n",
        "\n",
        "Mean = (2 + 4 + 6 + 8 + 10) / 5 = 30 / 5 = 6\n",
        "When to Use the Mean:\n",
        "\n",
        "The mean is appropriate when the data are symmetrical and there are no extreme outliers. It provides a good overall summary of the data and is widely used in statistics, economics, and other fields.\n",
        "\n",
        "However, the mean is sensitive to extreme values (outliers), which can skew the result, making it less reliable for data with large outliers.\n",
        "\n",
        "\n",
        "**2. Median (Middle Value)**\n",
        "\n",
        "The median is the middle value in a data set when the values are arranged in numerical order. If the data set has an even number of values, the median is the average of the two middle numbers.\n",
        "\n",
        "Example:\n",
        "\n",
        "Consider the following data set: 1, 3, 5, 7, 9.\n",
        "\n",
        "The median is 5, as it is the middle value in the ordered set.\n",
        "For an even number of values: 1, 2, 3, 4, 5, 6.\n",
        "\n",
        "The median would be the average of 3 and 4, so median = (3 + 4) / 2 = 3.5.\n",
        "\n",
        "**When to Use the Median:**\n",
        "\n",
        "The median is appropriate when the data set contains outliers or is skewed (i.e., not symmetrical). Since the median is not influenced by extreme values, it provides a better central value when the data is uneven or contains large outliers.\n",
        "\n",
        "The median is often used in situations where you are dealing with income, home prices, or other data with potential outliers.\n",
        "\n",
        "**3. Mode (Most Frequent Value)**\n",
        "\n",
        "The mode is the value that appears most frequently in a data set. A data set can have:\n",
        "\n",
        "No mode (if all values are unique),\n",
        "One mode (unimodal), or\n",
        "Multiple modes (bimodal or multimodal) if two or more values occur with the same highest frequency.\n",
        "\n",
        "Example:\n",
        "\n",
        "Consider the following data set: 1, 2, 2, 3, 4, 5, 5, 5.\n",
        "\n",
        "The mode is 5, as it appears more frequently than any other number.\n",
        "\n",
        "**When to Use the Mode:**\n",
        "\n",
        "The mode is useful for categorical data where we are interested in the most common category or value.\n",
        "\n",
        "The mode is also useful for discrete numerical data where certain values occur with greater frequency, such as determining the most popular product, color, or survey response.\n",
        "\n",
        "\n",
        "\n",
        "\n",
        "---\n",
        "\n"
      ],
      "metadata": {
        "id": "7VoKr0D0lOWU"
      }
    },
    {
      "cell_type": "markdown",
      "source": [],
      "metadata": {
        "id": "I77FrKRvlOT7"
      }
    },
    {
      "cell_type": "markdown",
      "source": [],
      "metadata": {
        "id": "5L4dXE2IlOQk"
      }
    },
    {
      "cell_type": "code",
      "execution_count": null,
      "metadata": {
        "id": "gCiIzesglFc1"
      },
      "outputs": [],
      "source": []
    }
  ]
}