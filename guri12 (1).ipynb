{
 "cells": [
  {
   "cell_type": "markdown",
   "id": "f56b0a7a-7a5c-413c-9376-81d052da9b83",
   "metadata": {},
   "source": [
    "# theory "
   ]
  },
  {
   "cell_type": "markdown",
   "id": "c33aaccd-2fe4-4a1a-a8b7-03d0769934fd",
   "metadata": {},
   "source": [
    "## pyton basic"
   ]
  },
  {
   "cell_type": "markdown",
   "id": "0ebc1afa-dac0-4274-a0d4-dabde68583a4",
   "metadata": {},
   "source": [
    "Q1.what is pyton\n",
    "Ans.pyton is bjgbtjb\n",
    "\n",
    "Q2."
   ]
  }
 ],
 "metadata": {
  "kernelspec": {
   "display_name": "Python 3 (ipykernel)",
   "language": "python",
   "name": "python3"
  },
  "language_info": {
   "codemirror_mode": {
    "name": "ipython",
    "version": 3
   },
   "file_extension": ".py",
   "mimetype": "text/x-python",
   "name": "python",
   "nbconvert_exporter": "python",
   "pygments_lexer": "ipython3",
   "version": "3.12.7"
  }
 },
 "nbformat": 4,
 "nbformat_minor": 5
}
