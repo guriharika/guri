{
 "cells": [
  {
   "cell_type": "markdown",
   "id": "c2f90d15-8da3-4193-b1c8-3b554539fda6",
   "metadata": {},
   "source": [
    "# theory question"
   ]
  },
  {
   "cell_type": "markdown",
   "id": "c4f12d14-e8c0-4a14-91ed-563d2206c113",
   "metadata": {},
   "source": [
    "## basic pyton"
   ]
  },
  {
   "cell_type": "markdown",
   "id": "53e6bc44-e445-469e-aca8-531edeac03bd",
   "metadata": {},
   "source": [
    "Q1.what is pyton"
   ]
  },
  {
   "cell_type": "markdown",
   "id": "8da0135f-cf22-4632-9290-898fb4832104",
   "metadata": {},
   "source": [
    "Ans;pyron id bjgfbrjtngjitrnh"
   ]
  },
  {
   "cell_type": "markdown",
   "id": "25cde174-74a4-44de-91b9-2cfde1d849e5",
   "metadata": {},
   "source": [
    "q2.brnfgothnjh"
   ]
  },
  {
   "cell_type": "code",
   "execution_count": null,
   "id": "3db346a9-c0e2-40ac-a12c-50a12c4aeb65",
   "metadata": {},
   "outputs": [],
   "source": [
    "ans;bfuri"
   ]
  }
 ],
 "metadata": {
  "kernelspec": {
   "display_name": "Python 3 (ipykernel)",
   "language": "python",
   "name": "python3"
  },
  "language_info": {
   "codemirror_mode": {
    "name": "ipython",
    "version": 3
   },
   "file_extension": ".py",
   "mimetype": "text/x-python",
   "name": "python",
   "nbconvert_exporter": "python",
   "pygments_lexer": "ipython3",
   "version": "3.12.7"
  }
 },
 "nbformat": 4,
 "nbformat_minor": 5
}
