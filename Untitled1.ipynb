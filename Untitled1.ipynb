{
  "nbformat": 4,
  "nbformat_minor": 0,
  "metadata": {
    "colab": {
      "provenance": []
    },
    "kernelspec": {
      "name": "python3",
      "display_name": "Python 3"
    },
    "language_info": {
      "name": "python"
    }
  },
  "cells": [
    {
      "cell_type": "markdown",
      "source": [
        "theory questions\n"
      ],
      "metadata": {
        "id": "8sCIC6uVnJJ4"
      }
    },
    {
      "cell_type": "markdown",
      "source": [
        "Question1. what is guri\n",
        "\n",
        "answe1: gurotrjhi hoj\n",
        "\n",
        "\n",
        "---\n",
        "\n",
        "\n",
        "quetsion2: whuihrogiknth hgiorhn gnitrjhypo\n",
        "\n",
        "Answers: ruigmnohmytjmopj,pu,kuyk\n",
        "\n",
        "\n",
        "---\n",
        "\n",
        "\n",
        "question 3: what is rnigntrmnhiytoj\n",
        "\n",
        "Answers: nrthni niohtyjhm niyotmin\n",
        "\n",
        "\n",
        "\n",
        "\n",
        "\n",
        "\n",
        "\n"
      ],
      "metadata": {
        "id": "qcoOLDUynOjy"
      }
    },
    {
      "cell_type": "markdown",
      "source": [
        "Praticals question\n",
        "\n",
        "\n",
        "Q1. write a program\n",
        "\n",
        "\n",
        "Answer1:\n",
        "\n"
      ],
      "metadata": {
        "id": "xx-iE2uOojKR"
      }
    },
    {
      "cell_type": "code",
      "source": [
        "a=1,2,3\n",
        "a"
      ],
      "metadata": {
        "colab": {
          "base_uri": "https://localhost:8080/"
        },
        "id": "v_dOOtOEo1yw",
        "outputId": "3e6d5139-a948-47c9-c48b-12495da6ef01"
      },
      "execution_count": 1,
      "outputs": [
        {
          "output_type": "execute_result",
          "data": {
            "text/plain": [
              "(1, 2, 3)"
            ]
          },
          "metadata": {},
          "execution_count": 1
        }
      ]
    },
    {
      "cell_type": "code",
      "source": [],
      "metadata": {
        "id": "wh9Ojfneo4xT"
      },
      "execution_count": null,
      "outputs": []
    },
    {
      "cell_type": "markdown",
      "source": [
        "Q2. write a program\n",
        "\n",
        "Answer2:\n"
      ],
      "metadata": {
        "id": "2xwf2-TQpFlw"
      }
    },
    {
      "cell_type": "code",
      "source": [
        "a = 1,2,3,4\n",
        "a"
      ],
      "metadata": {
        "colab": {
          "base_uri": "https://localhost:8080/"
        },
        "id": "iKCygZCtpNDZ",
        "outputId": "1c675c1c-2dbe-4120-8dd5-799a7bb5808a"
      },
      "execution_count": 2,
      "outputs": [
        {
          "output_type": "execute_result",
          "data": {
            "text/plain": [
              "(1, 2, 3, 4)"
            ]
          },
          "metadata": {},
          "execution_count": 2
        }
      ]
    },
    {
      "cell_type": "code",
      "source": [],
      "metadata": {
        "id": "Ckm8KYfVpPr_"
      },
      "execution_count": null,
      "outputs": []
    }
  ]
}